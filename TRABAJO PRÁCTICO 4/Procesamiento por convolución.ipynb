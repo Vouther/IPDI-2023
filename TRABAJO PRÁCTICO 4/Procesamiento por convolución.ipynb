{
 "cells": [
  {
   "cell_type": "code",
   "execution_count": 1,
   "metadata": {},
   "outputs": [
    {
     "name": "stdout",
     "output_type": "stream",
     "text": [
      "[[0.11111111 0.11111111 0.11111111]\n",
      " [0.11111111 0.11111111 0.11111111]\n",
      " [0.11111111 0.11111111 0.11111111]]\n"
     ]
    }
   ],
   "source": [
    "import numpy as np\n",
    "kernel = np.ones((3, 3))\n",
    "k=kernel/np.sum(kernel)\n",
    "print(k)\n"
   ]
  },
  {
   "cell_type": "code",
   "execution_count": 2,
   "metadata": {},
   "outputs": [],
   "source": [
    "def _convolution1(image, kernel = np.ones((1,1))):\n",
    "    convolved = np.zeros((np.array(image.shape)-np.array(kernel.shape)+1))\n",
    "    print(convolved)\n",
    "    for x in range(convolved.shape[0]):\n",
    "        for y in range(convolved.shape[1]):\n",
    "            convolved[x,y] = (image[x:x+kernel.shape[0],y:y+kernel.shape[1]]*kernel).sum()\n",
    "    return convolved"
   ]
  },
  {
   "cell_type": "code",
   "execution_count": 3,
   "metadata": {},
   "outputs": [],
   "source": [
    "def _convolution2(image, kernel = np.ones((1,1))):\n",
    "    convolved = np.zeros((np.array(image.shape)-np.array(kernel.shape)+1))\n",
    "    for x, y in np.ndindex(convolved.shape):\n",
    "        convolved[x,y] = (image[x:x+kernel.shape[0],y:y+kernel.shape[1]]*kernel).sum()\n",
    "    return convolved"
   ]
  },
  {
   "cell_type": "code",
   "execution_count": 7,
   "metadata": {},
   "outputs": [
    {
     "name": "stderr",
     "output_type": "stream",
     "text": [
      "C:\\Users\\Margarita Zerpa\\AppData\\Local\\Temp\\ipykernel_1176\\484873477.py:6: DeprecationWarning: Starting with ImageIO v3 the behavior of this function will switch to that of iio.v3.imread. To keep the current behavior (and make this warning disappear) use `import imageio.v2 as imageio` or call `imageio.v2.imread` directly.\n",
      "  im = np.clip(imageio.imread('Charly.bmp') / 255.0, 0.0, 1.0)\n"
     ]
    },
    {
     "name": "stdout",
     "output_type": "stream",
     "text": [
      "(288, 282)\n",
      "(3, 3)\n",
      "[[0. 0. 0. ... 0. 0. 0.]\n",
      " [0. 0. 0. ... 0. 0. 0.]\n",
      " [0. 0. 0. ... 0. 0. 0.]\n",
      " ...\n",
      " [0. 0. 0. ... 0. 0. 0.]\n",
      " [0. 0. 0. ... 0. 0. 0.]\n",
      " [0. 0. 0. ... 0. 0. 0.]]\n"
     ]
    },
    {
     "ename": "ValueError",
     "evalue": "could not broadcast input array from shape (286,280) into shape (288,282)",
     "output_type": "error",
     "traceback": [
      "\u001b[1;31m---------------------------------------------------------------------------\u001b[0m",
      "\u001b[1;31mValueError\u001b[0m                                Traceback (most recent call last)",
      "\u001b[1;32mc:\\Users\\Margarita Zerpa\\Documents\\INTRODUCCIÓN AL PROCESAMIENTO DE IMAGENES\\TRABAJOS PRACTICOS\\practicaBartlett.ipynb Cell 4\u001b[0m line \u001b[0;36m1\n\u001b[0;32m      <a href='vscode-notebook-cell:/c%3A/Users/Margarita%20Zerpa/Documents/INTRODUCCI%C3%93N%20AL%20PROCESAMIENTO%20DE%20IMAGENES/TRABAJOS%20PRACTICOS/practicaBartlett.ipynb#W5sZmlsZQ%3D%3D?line=7'>8</a>\u001b[0m \u001b[39mprint\u001b[39m(k\u001b[39m.\u001b[39mshape)\n\u001b[0;32m      <a href='vscode-notebook-cell:/c%3A/Users/Margarita%20Zerpa/Documents/INTRODUCCI%C3%93N%20AL%20PROCESAMIENTO%20DE%20IMAGENES/TRABAJOS%20PRACTICOS/practicaBartlett.ipynb#W5sZmlsZQ%3D%3D?line=8'>9</a>\u001b[0m im2\u001b[39m=\u001b[39m_convolution1(im[:,:,\u001b[39m0\u001b[39m],k)\n\u001b[1;32m---> <a href='vscode-notebook-cell:/c%3A/Users/Margarita%20Zerpa/Documents/INTRODUCCI%C3%93N%20AL%20PROCESAMIENTO%20DE%20IMAGENES/TRABAJOS%20PRACTICOS/practicaBartlett.ipynb#W5sZmlsZQ%3D%3D?line=9'>10</a>\u001b[0m im[:,:,\u001b[39m0\u001b[39;49m]\u001b[39m=\u001b[39mim2\n\u001b[0;32m     <a href='vscode-notebook-cell:/c%3A/Users/Margarita%20Zerpa/Documents/INTRODUCCI%C3%93N%20AL%20PROCESAMIENTO%20DE%20IMAGENES/TRABAJOS%20PRACTICOS/practicaBartlett.ipynb#W5sZmlsZQ%3D%3D?line=10'>11</a>\u001b[0m plt\u001b[39m.\u001b[39mimshow(im)\n\u001b[0;32m     <a href='vscode-notebook-cell:/c%3A/Users/Margarita%20Zerpa/Documents/INTRODUCCI%C3%93N%20AL%20PROCESAMIENTO%20DE%20IMAGENES/TRABAJOS%20PRACTICOS/practicaBartlett.ipynb#W5sZmlsZQ%3D%3D?line=11'>12</a>\u001b[0m plt\u001b[39m.\u001b[39mshow()\n",
      "\u001b[1;31mValueError\u001b[0m: could not broadcast input array from shape (286,280) into shape (288,282)"
     ]
    }
   ],
   "source": [
    "import numpy as np\n",
    "import matplotlib.pyplot as plt\n",
    "import imageio\n",
    "\n",
    "# Cargar la imagen y el kernel\n",
    "im = np.clip(imageio.imread('Charly.bmp') / 255.0, 0.0, 1.0)\n",
    "print(im[:,:,1].shape)\n",
    "print(k.shape)\n",
    "im2=_convolution1(im[:,:,0],k)\n",
    "im[:,:,0]=im2\n",
    "plt.imshow(im)\n",
    "plt.show()"
   ]
  },
  {
   "cell_type": "code",
   "execution_count": 13,
   "metadata": {},
   "outputs": [
    {
     "name": "stderr",
     "output_type": "stream",
     "text": [
      "C:\\Users\\Margarita Zerpa\\AppData\\Local\\Temp\\ipykernel_8620\\3386615298.py:6: DeprecationWarning: Starting with ImageIO v3 the behavior of this function will switch to that of iio.v3.imread. To keep the current behavior (and make this warning disappear) use `import imageio.v2 as imageio` or call `imageio.v2.imread` directly.\n",
      "  im = np.clip(imageio.imread('Charly.bmp') / 255.0, 0.0, 1.0)\n"
     ]
    },
    {
     "ename": "ValueError",
     "evalue": "operands could not be broadcast together with remapped shapes [original->remapped]: (2,2)  and requested shape (3,2)",
     "output_type": "error",
     "traceback": [
      "\u001b[1;31m---------------------------------------------------------------------------\u001b[0m",
      "\u001b[1;31mValueError\u001b[0m                                Traceback (most recent call last)",
      "\u001b[1;32mc:\\Users\\Margarita Zerpa\\Documents\\INTRODUCCIÓN AL PROCESAMIENTO DE IMAGENES\\TRABAJOS PRACTICOS\\practicaBartlett.ipynb Cell 4\u001b[0m line \u001b[0;36m1\n\u001b[0;32m     <a href='vscode-notebook-cell:/c%3A/Users/Margarita%20Zerpa/Documents/INTRODUCCI%C3%93N%20AL%20PROCESAMIENTO%20DE%20IMAGENES/TRABAJOS%20PRACTICOS/practicaBartlett.ipynb#W4sZmlsZQ%3D%3D?line=14'>15</a>\u001b[0m padding_y \u001b[39m=\u001b[39m k\u001b[39m.\u001b[39mshape[\u001b[39m1\u001b[39m] \u001b[39m-\u001b[39m \u001b[39m1\u001b[39m\n\u001b[0;32m     <a href='vscode-notebook-cell:/c%3A/Users/Margarita%20Zerpa/Documents/INTRODUCCI%C3%93N%20AL%20PROCESAMIENTO%20DE%20IMAGENES/TRABAJOS%20PRACTICOS/practicaBartlett.ipynb#W4sZmlsZQ%3D%3D?line=16'>17</a>\u001b[0m \u001b[39m# Rellenar la imagen de manera simétrica para que la forma sea válida\u001b[39;00m\n\u001b[1;32m---> <a href='vscode-notebook-cell:/c%3A/Users/Margarita%20Zerpa/Documents/INTRODUCCI%C3%93N%20AL%20PROCESAMIENTO%20DE%20IMAGENES/TRABAJOS%20PRACTICOS/practicaBartlett.ipynb#W4sZmlsZQ%3D%3D?line=17'>18</a>\u001b[0m im_padded \u001b[39m=\u001b[39m np\u001b[39m.\u001b[39;49mpad(im, ((padding_x, padding_x), (padding_y, padding_y)), mode\u001b[39m=\u001b[39;49m\u001b[39m'\u001b[39;49m\u001b[39msymmetric\u001b[39;49m\u001b[39m'\u001b[39;49m)\n\u001b[0;32m     <a href='vscode-notebook-cell:/c%3A/Users/Margarita%20Zerpa/Documents/INTRODUCCI%C3%93N%20AL%20PROCESAMIENTO%20DE%20IMAGENES/TRABAJOS%20PRACTICOS/practicaBartlett.ipynb#W4sZmlsZQ%3D%3D?line=19'>20</a>\u001b[0m \u001b[39m# Realizar la convolución con la imagen rellenada\u001b[39;00m\n\u001b[0;32m     <a href='vscode-notebook-cell:/c%3A/Users/Margarita%20Zerpa/Documents/INTRODUCCI%C3%93N%20AL%20PROCESAMIENTO%20DE%20IMAGENES/TRABAJOS%20PRACTICOS/practicaBartlett.ipynb#W4sZmlsZQ%3D%3D?line=20'>21</a>\u001b[0m result \u001b[39m=\u001b[39m _convolution1(im_padded, k)\n",
      "File \u001b[1;32mc:\\Python311\\Lib\\site-packages\\numpy\\lib\\arraypad.py:748\u001b[0m, in \u001b[0;36mpad\u001b[1;34m(array, pad_width, mode, **kwargs)\u001b[0m\n\u001b[0;32m    745\u001b[0m     \u001b[39mraise\u001b[39;00m \u001b[39mTypeError\u001b[39;00m(\u001b[39m'\u001b[39m\u001b[39m`pad_width` must be of integral type.\u001b[39m\u001b[39m'\u001b[39m)\n\u001b[0;32m    747\u001b[0m \u001b[39m# Broadcast to shape (array.ndim, 2)\u001b[39;00m\n\u001b[1;32m--> 748\u001b[0m pad_width \u001b[39m=\u001b[39m _as_pairs(pad_width, array\u001b[39m.\u001b[39;49mndim, as_index\u001b[39m=\u001b[39;49m\u001b[39mTrue\u001b[39;49;00m)\n\u001b[0;32m    750\u001b[0m \u001b[39mif\u001b[39;00m \u001b[39mcallable\u001b[39m(mode):\n\u001b[0;32m    751\u001b[0m     \u001b[39m# Old behavior: Use user-supplied function with np.apply_along_axis\u001b[39;00m\n\u001b[0;32m    752\u001b[0m     function \u001b[39m=\u001b[39m mode\n",
      "File \u001b[1;32mc:\\Python311\\Lib\\site-packages\\numpy\\lib\\arraypad.py:522\u001b[0m, in \u001b[0;36m_as_pairs\u001b[1;34m(x, ndim, as_index)\u001b[0m\n\u001b[0;32m    518\u001b[0m     \u001b[39mraise\u001b[39;00m \u001b[39mValueError\u001b[39;00m(\u001b[39m\"\u001b[39m\u001b[39mindex can\u001b[39m\u001b[39m'\u001b[39m\u001b[39mt contain negative values\u001b[39m\u001b[39m\"\u001b[39m)\n\u001b[0;32m    520\u001b[0m \u001b[39m# Converting the array with `tolist` seems to improve performance\u001b[39;00m\n\u001b[0;32m    521\u001b[0m \u001b[39m# when iterating and indexing the result (see usage in `pad`)\u001b[39;00m\n\u001b[1;32m--> 522\u001b[0m \u001b[39mreturn\u001b[39;00m np\u001b[39m.\u001b[39;49mbroadcast_to(x, (ndim, \u001b[39m2\u001b[39;49m))\u001b[39m.\u001b[39mtolist()\n",
      "File \u001b[1;32mc:\\Python311\\Lib\\site-packages\\numpy\\lib\\stride_tricks.py:413\u001b[0m, in \u001b[0;36mbroadcast_to\u001b[1;34m(array, shape, subok)\u001b[0m\n\u001b[0;32m    367\u001b[0m \u001b[39m@array_function_dispatch\u001b[39m(_broadcast_to_dispatcher, module\u001b[39m=\u001b[39m\u001b[39m'\u001b[39m\u001b[39mnumpy\u001b[39m\u001b[39m'\u001b[39m)\n\u001b[0;32m    368\u001b[0m \u001b[39mdef\u001b[39;00m \u001b[39mbroadcast_to\u001b[39m(array, shape, subok\u001b[39m=\u001b[39m\u001b[39mFalse\u001b[39;00m):\n\u001b[0;32m    369\u001b[0m \u001b[39m    \u001b[39m\u001b[39m\"\"\"Broadcast an array to a new shape.\u001b[39;00m\n\u001b[0;32m    370\u001b[0m \n\u001b[0;32m    371\u001b[0m \u001b[39m    Parameters\u001b[39;00m\n\u001b[1;32m   (...)\u001b[0m\n\u001b[0;32m    411\u001b[0m \u001b[39m           [1, 2, 3]])\u001b[39;00m\n\u001b[0;32m    412\u001b[0m \u001b[39m    \"\"\"\u001b[39;00m\n\u001b[1;32m--> 413\u001b[0m     \u001b[39mreturn\u001b[39;00m _broadcast_to(array, shape, subok\u001b[39m=\u001b[39;49msubok, readonly\u001b[39m=\u001b[39;49m\u001b[39mTrue\u001b[39;49;00m)\n",
      "File \u001b[1;32mc:\\Python311\\Lib\\site-packages\\numpy\\lib\\stride_tricks.py:349\u001b[0m, in \u001b[0;36m_broadcast_to\u001b[1;34m(array, shape, subok, readonly)\u001b[0m\n\u001b[0;32m    346\u001b[0m     \u001b[39mraise\u001b[39;00m \u001b[39mValueError\u001b[39;00m(\u001b[39m'\u001b[39m\u001b[39mall elements of broadcast shape must be non-\u001b[39m\u001b[39m'\u001b[39m\n\u001b[0;32m    347\u001b[0m                      \u001b[39m'\u001b[39m\u001b[39mnegative\u001b[39m\u001b[39m'\u001b[39m)\n\u001b[0;32m    348\u001b[0m extras \u001b[39m=\u001b[39m []\n\u001b[1;32m--> 349\u001b[0m it \u001b[39m=\u001b[39m np\u001b[39m.\u001b[39;49mnditer(\n\u001b[0;32m    350\u001b[0m     (array,), flags\u001b[39m=\u001b[39;49m[\u001b[39m'\u001b[39;49m\u001b[39mmulti_index\u001b[39;49m\u001b[39m'\u001b[39;49m, \u001b[39m'\u001b[39;49m\u001b[39mrefs_ok\u001b[39;49m\u001b[39m'\u001b[39;49m, \u001b[39m'\u001b[39;49m\u001b[39mzerosize_ok\u001b[39;49m\u001b[39m'\u001b[39;49m] \u001b[39m+\u001b[39;49m extras,\n\u001b[0;32m    351\u001b[0m     op_flags\u001b[39m=\u001b[39;49m[\u001b[39m'\u001b[39;49m\u001b[39mreadonly\u001b[39;49m\u001b[39m'\u001b[39;49m], itershape\u001b[39m=\u001b[39;49mshape, order\u001b[39m=\u001b[39;49m\u001b[39m'\u001b[39;49m\u001b[39mC\u001b[39;49m\u001b[39m'\u001b[39;49m)\n\u001b[0;32m    352\u001b[0m \u001b[39mwith\u001b[39;00m it:\n\u001b[0;32m    353\u001b[0m     \u001b[39m# never really has writebackifcopy semantics\u001b[39;00m\n\u001b[0;32m    354\u001b[0m     broadcast \u001b[39m=\u001b[39m it\u001b[39m.\u001b[39mitviews[\u001b[39m0\u001b[39m]\n",
      "\u001b[1;31mValueError\u001b[0m: operands could not be broadcast together with remapped shapes [original->remapped]: (2,2)  and requested shape (3,2)"
     ]
    }
   ],
   "source": [
    "import numpy as np\n",
    "import matplotlib.pyplot as plt\n",
    "import imageio\n",
    "\n",
    "# Cargar la imagen y el kernel\n",
    "im = np.clip(imageio.imread('Charly.bmp') / 255.0, 0.0, 1.0)\n",
    "k = kernel / np.sum(kernel)\n",
    "\n",
    "# Verificar las dimensiones de la imagen y el kernel\n",
    "if im.shape[0] < k.shape[0] or im.shape[1] < k.shape[1]:\n",
    "    raise ValueError(\"El kernel es más grande que la imagen. Ajusta el tamaño del kernel o la imagen.\")\n",
    "\n",
    "# Calcular las dimensiones de relleno\n",
    "padding_x = k.shape[0] - 1\n",
    "padding_y = k.shape[1] - 1\n",
    "\n",
    "# Rellenar la imagen de manera simétrica para que la forma sea válida\n",
    "im_padded = np.pad(im, ((padding_x, padding_x), (padding_y, padding_y)), mode='symmetric')\n",
    "\n",
    "# Realizar la convolución con la imagen rellenada\n",
    "result = _convolution1(im_padded, k)\n",
    "\n",
    "# Mostrar el resultado\n",
    "plt.imshow(result, cmap='gray')\n",
    "plt.show()\n",
    "\n"
   ]
  }
 ],
 "metadata": {
  "kernelspec": {
   "display_name": "Python 3",
   "language": "python",
   "name": "python3"
  },
  "language_info": {
   "codemirror_mode": {
    "name": "ipython",
    "version": 3
   },
   "file_extension": ".py",
   "mimetype": "text/x-python",
   "name": "python",
   "nbconvert_exporter": "python",
   "pygments_lexer": "ipython3",
   "version": "3.11.4"
  },
  "orig_nbformat": 4
 },
 "nbformat": 4,
 "nbformat_minor": 2
}
